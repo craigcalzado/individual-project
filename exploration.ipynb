{
 "cells": [
  {
   "cell_type": "code",
   "execution_count": 1,
   "metadata": {},
   "outputs": [],
   "source": [
    "\n",
    "import acquire\n",
    "import prep\n",
    "\n",
    "# for presentation purposes\n",
    "import warnings\n",
    "warnings.filterwarnings(\"ignore\")\n",
    "\n",
    "import numpy as np\n",
    "import pandas as pd\n",
    "\n",
    "# visualize \n",
    "import matplotlib.pyplot as plt\n",
    "import seaborn as sns\n",
    "\n",
    "import statsmodels.api as sm"
   ]
  },
  {
   "cell_type": "markdown",
   "metadata": {},
   "source": [
    "### Acquire"
   ]
  },
  {
   "cell_type": "code",
   "execution_count": 2,
   "metadata": {},
   "outputs": [],
   "source": [
    "# acquire data\n",
    "data = acquire.epi_category('711238')"
   ]
  },
  {
   "cell_type": "code",
   "execution_count": null,
   "metadata": {},
   "outputs": [],
   "source": [
    "series_id_list, series_name_list = acquire.data_manipulation(data)"
   ]
  },
  {
   "cell_type": "code",
   "execution_count": null,
   "metadata": {},
   "outputs": [],
   "source": [
    "df_list = acquire.build_df_list_rename(series_id_list, series_name_list)"
   ]
  },
  {
   "cell_type": "markdown",
   "metadata": {},
   "source": [
    "### prep"
   ]
  },
  {
   "cell_type": "code",
   "execution_count": null,
   "metadata": {},
   "outputs": [],
   "source": [
    "df = prep.prep_data(df_list)"
   ]
  },
  {
   "cell_type": "code",
   "execution_count": null,
   "metadata": {},
   "outputs": [],
   "source": [
    "df"
   ]
  },
  {
   "cell_type": "code",
   "execution_count": null,
   "metadata": {},
   "outputs": [],
   "source": [
    "df = prep.feat_eng(df)"
   ]
  },
  {
   "cell_type": "markdown",
   "metadata": {},
   "source": [
    "#### explore"
   ]
  },
  {
   "cell_type": "code",
   "execution_count": null,
   "metadata": {},
   "outputs": [],
   "source": [
    "df = prep.fossil_fuels(df)"
   ]
  },
  {
   "cell_type": "code",
   "execution_count": null,
   "metadata": {},
   "outputs": [],
   "source": [
    "df.head()"
   ]
  },
  {
   "cell_type": "code",
   "execution_count": null,
   "metadata": {},
   "outputs": [],
   "source": [
    "# plotting defaults\n",
    "plt.rc('figure', figsize=(11, 5))\n",
    "plt.style.use('seaborn-whitegrid')\n",
    "plt.rc('font', size=16)\n",
    "\n",
    "print('Date Range:', df.index.min(), 'to', df.index.max())\n",
    "df.head()\n",
    "\n",
    "df.shape[0]"
   ]
  },
  {
   "cell_type": "code",
   "execution_count": null,
   "metadata": {},
   "outputs": [],
   "source": [
    "df.total_fossil_fuels_production_monthly.describe()"
   ]
  },
  {
   "cell_type": "markdown",
   "metadata": {},
   "source": [
    "seasonality: a repeated cycle in the data. Occurs at a fixed frequency. In our weather data there is yearly and daily seasonality\n",
    "trend: long term upwards or downwards movement\n",
    "cycle: Some arbitrary chunk of time, usually longer than a season, or consists of multiple seasons"
   ]
  },
  {
   "cell_type": "markdown",
   "metadata": {},
   "source": [
    "Train-Test Split\n",
    "\n",
    "Ideally all splits contain a season\n",
    "Human-based: use the last year as test\n",
    "Percentage based: use the last 20% as test\n",
    "Cross Validate: break data up into slices and use successive slices as train and test repeatedly (sklearn.model_selection.TimeSeriesSplit)"
   ]
  },
  {
   "cell_type": "code",
   "execution_count": null,
   "metadata": {},
   "outputs": [],
   "source": [
    "# # Percentage-Based\n",
    "# train_size = .70\n",
    "# n = df.shape[0]\n",
    "# test_start_index = round(train_size * n)\n",
    "\n",
    "# train = df[:test_start_index] # everything up (not including) to the test_start_index\n",
    "# test = df[test_start_index:] # everything from the test_start_index to the end\n",
    "\n",
    "# plt.plot(train.index, train.total_fossil_fuels_production_monthly)\n",
    "# plt.plot(test.index, test.total_fossil_fuels_production_monthly)"
   ]
  },
  {
   "cell_type": "code",
   "execution_count": null,
   "metadata": {},
   "outputs": [],
   "source": [
    "# Human-Based\n",
    "train = df.loc['2005':'2014'] # includes 2010\n",
    "test = df.loc['2015':'2021']\n",
    "\n",
    "plt.plot(train.index, train.total_fossil_fuels_production_monthly)\n",
    "plt.plot(test.index, test.total_fossil_fuels_production_monthly)"
   ]
  },
  {
   "cell_type": "markdown",
   "metadata": {},
   "source": [
    "Visualization"
   ]
  },
  {
   "cell_type": "code",
   "execution_count": null,
   "metadata": {},
   "outputs": [],
   "source": [
    "y = train.total_fossil_fuels_production_monthly\n",
    "x = train.total_fossil_fuels_consumption_monthly\n",
    "z = train.fossil_fuels_difference\n",
    "y.head()"
   ]
  },
  {
   "cell_type": "code",
   "execution_count": null,
   "metadata": {},
   "outputs": [],
   "source": [
    "y.plot.hist()"
   ]
  },
  {
   "cell_type": "code",
   "execution_count": null,
   "metadata": {},
   "outputs": [],
   "source": [
    "x.plot.hist()"
   ]
  },
  {
   "cell_type": "code",
   "execution_count": null,
   "metadata": {},
   "outputs": [],
   "source": [
    "z.plot.hist()"
   ]
  },
  {
   "cell_type": "code",
   "execution_count": null,
   "metadata": {},
   "outputs": [],
   "source": [
    "ax = train.groupby(train.index.month).total_fossil_fuels_production_monthly.mean().plot.bar()\n",
    "ax.tick_params('x', rotation=0)"
   ]
  },
  {
   "cell_type": "code",
   "execution_count": null,
   "metadata": {},
   "outputs": [],
   "source": [
    "ax = train.groupby(train.index.month).total_fossil_fuels_consumption_monthly.mean().plot.bar()\n",
    "ax.tick_params('x', rotation=0)"
   ]
  },
  {
   "cell_type": "code",
   "execution_count": null,
   "metadata": {},
   "outputs": [],
   "source": [
    "ax = train.groupby(train.index.month).fossil_fuels_difference.mean().plot.bar()\n",
    "ax.tick_params('x', rotation=0)"
   ]
  },
  {
   "cell_type": "code",
   "execution_count": null,
   "metadata": {},
   "outputs": [],
   "source": [
    "train['month'] = train.index.month_name()"
   ]
  },
  {
   "cell_type": "code",
   "execution_count": null,
   "metadata": {},
   "outputs": [],
   "source": [
    "sns.boxplot(data=train, y='total_fossil_fuels_production_monthly', x='month')\n",
    "# rotate x-axis labels\n",
    "plt.xticks(rotation=45)"
   ]
  },
  {
   "cell_type": "code",
   "execution_count": null,
   "metadata": {},
   "outputs": [],
   "source": [
    "sns.boxplot(data=train, y='total_fossil_fuels_consumption_monthly', x='month')\n",
    "# rotate x-axis labels\n",
    "plt.xticks(rotation=45)\n",
    "plt.show()"
   ]
  },
  {
   "cell_type": "code",
   "execution_count": null,
   "metadata": {},
   "outputs": [],
   "source": [
    "sns.boxplot(data=train, y='fossil_fuels_difference', x='month')\n",
    "# rotate x-axis labels\n",
    "plt.xticks(rotation=45)"
   ]
  },
  {
   "cell_type": "code",
   "execution_count": null,
   "metadata": {},
   "outputs": [],
   "source": [
    "y.plot(alpha=.2, label='Monthly')\n",
    "y.resample('3M').mean().plot(alpha=.5, label='Tri-Monthly')\n",
    "y.resample('6M').mean().plot(alpha=.8, label='Bi-Yearly')\n",
    "y.resample('Y').mean().plot(label='Yearly')\n",
    "y.resample('5Y').mean().plot(label='Bi-Decade')\n",
    "plt.legend()\n",
    "# add labels\n",
    "plt.xlabel('Date')\n",
    "plt.ylabel('Production (MtCO2)')\n",
    "plt.title('Fossil Fuels Production')"
   ]
  },
  {
   "cell_type": "code",
   "execution_count": null,
   "metadata": {},
   "outputs": [],
   "source": [
    "x.plot(alpha=.2, label='Monthly')\n",
    "x.resample('3M').mean().plot(alpha=.5, label='Tri-Monthly')\n",
    "x.resample('6M').mean().plot(alpha=.8, label='Bi-Yearly')\n",
    "x.resample('Y').mean().plot(label='Yearly')\n",
    "x.resample('5Y').mean().plot(label='Bi-Decade')\n",
    "plt.legend()\n",
    "# add labels\n",
    "plt.xlabel('Date')\n",
    "plt.ylabel('Consumption (MtCO2)')\n",
    "plt.title('Fossil Fuels Consumption')"
   ]
  },
  {
   "cell_type": "code",
   "execution_count": null,
   "metadata": {},
   "outputs": [],
   "source": [
    "z.plot(alpha=.2, label='Monthly')\n",
    "z.resample('3M').mean().plot(alpha=.5, label='Tri-Monthly')\n",
    "z.resample('6M').mean().plot(alpha=.8, label='Bi-Yearly')\n",
    "z.resample('Y').mean().plot(label='Yearly')\n",
    "z.resample('5Y').mean().plot(label='Bi-Decade')\n",
    "plt.legend()\n",
    "# add labels\n",
    "plt.xlabel('Date')\n",
    "plt.ylabel('Difference (MtCO2)')\n",
    "plt.title('Fossil Fuels Difference in Production and Consumption')"
   ]
  },
  {
   "cell_type": "markdown",
   "metadata": {},
   "source": [
    "Change in difference over time"
   ]
  },
  {
   "cell_type": "code",
   "execution_count": null,
   "metadata": {},
   "outputs": [],
   "source": [
    "fig, (ax1, ax2) = plt.subplots(2, 1, sharex=True, sharey=True, figsize=(16, 9))\n",
    "\n",
    "ax = y.resample('M').mean().diff(12).plot(ax=ax1)\n",
    "ax1.hlines(0, *ax1.get_xlim(), color='black', ls=':')\n",
    "ax1.set(title='Difference from the same month last year')\n",
    "\n",
    "y.resample('M').mean().plot(ax=ax2)\n",
    "ax2.set(title='Fossil Fuel Production over time')"
   ]
  },
  {
   "cell_type": "code",
   "execution_count": null,
   "metadata": {},
   "outputs": [],
   "source": [
    "fig, (ax1, ax2) = plt.subplots(2, 1, sharex=True, sharey=True, figsize=(16, 9))\n",
    "\n",
    "ax = x.resample('M').mean().diff(12).plot(ax=ax1)\n",
    "ax1.hlines(0, *ax1.get_xlim(), color='black', ls=':')\n",
    "ax1.set(title='Difference from the same month last year')\n",
    "\n",
    "x.resample('M').mean().plot(ax=ax2)\n",
    "ax2.set(title='Fossil Fuel Consumption over time')"
   ]
  },
  {
   "cell_type": "code",
   "execution_count": null,
   "metadata": {},
   "outputs": [],
   "source": [
    "fig, (ax1, ax2) = plt.subplots(2, 1, sharex=True, sharey=True, figsize=(16, 9))\n",
    "\n",
    "ax = z.resample('M').mean().diff(12).plot(ax=ax1)\n",
    "ax1.hlines(0, *ax1.get_xlim(), color='black', ls=':')\n",
    "ax1.set(title='Difference from the same month last year')\n",
    "\n",
    "z.resample('M').mean().plot(ax=ax2)\n",
    "ax2.set(title='Difference in consuption/production over time')"
   ]
  },
  {
   "cell_type": "markdown",
   "metadata": {},
   "source": [
    "Seasonal Plot\n",
    "\n",
    "xaxis: month\n",
    "yaxis: y\n",
    "color: year"
   ]
  },
  {
   "cell_type": "code",
   "execution_count": null,
   "metadata": {},
   "outputs": [],
   "source": [
    "y.groupby([y.index.year, y.index.month]).mean().unstack(0).plot(title='Seasonal Plot')\n"
   ]
  },
  {
   "cell_type": "code",
   "execution_count": null,
   "metadata": {},
   "outputs": [],
   "source": [
    "x.groupby([x.index.year, x.index.month]).mean().unstack(0).plot(title='Seasonal Plot')\n"
   ]
  },
  {
   "cell_type": "code",
   "execution_count": null,
   "metadata": {},
   "outputs": [],
   "source": [
    "z.groupby([z.index.year, z.index.month]).mean().unstack(0).plot(title='Seasonal Plot')\n"
   ]
  },
  {
   "cell_type": "markdown",
   "metadata": {},
   "source": [
    "Seasonal Subseries Plot"
   ]
  },
  {
   "cell_type": "code",
   "execution_count": null,
   "metadata": {},
   "outputs": [],
   "source": [
    "table = y.groupby([y.index.year, y.index.month]).mean().unstack()\n",
    "table"
   ]
  },
  {
   "cell_type": "code",
   "execution_count": null,
   "metadata": {},
   "outputs": [],
   "source": [
    "for month_number, subset in table.iteritems():\n",
    "    print(month_number)"
   ]
  },
  {
   "cell_type": "code",
   "execution_count": null,
   "metadata": {},
   "outputs": [],
   "source": [
    "for number, letter in zip([1, 2, 3], ['a', 'b', 'c']):\n",
    "    print(number, letter)"
   ]
  },
  {
   "cell_type": "code",
   "execution_count": null,
   "metadata": {},
   "outputs": [],
   "source": [
    "ax.get_xlim()"
   ]
  },
  {
   "cell_type": "code",
   "execution_count": null,
   "metadata": {},
   "outputs": [],
   "source": [
    "table = y.groupby([y.index.year, y.index.month]).mean().unstack()\n",
    "\n",
    "fig, axs = plt.subplots(1, 12, sharey=True, sharex=True, figsize=(16, 5))\n",
    "\n",
    "for ax, (month, subset) in zip(axs, table.iteritems()):\n",
    "    subset.plot(ax=ax, title=month)\n",
    "    ax.hlines(subset.mean(), *ax.get_xlim(), color='black', ls='--')\n",
    "    ax.set(xlabel='')\n",
    "    ax.tick_params('x', rotation=30)\n",
    "    \n",
    "fig.suptitle('Seasonal Subseries Plot') # super-title for the overall figure\n",
    "# fig.tight_layout()\n",
    "fig.subplots_adjust(wspace=0)"
   ]
  },
  {
   "cell_type": "code",
   "execution_count": null,
   "metadata": {},
   "outputs": [],
   "source": [
    "table = x.groupby([x.index.year, x.index.month]).mean().unstack()\n",
    "\n",
    "fig, axs = plt.subplots(1, 12, sharey=True, sharex=True, figsize=(16, 5))\n",
    "\n",
    "for ax, (month, subset) in zip(axs, table.iteritems()):\n",
    "    subset.plot(ax=ax, title=month)\n",
    "    ax.hlines(subset.mean(), *ax.get_xlim(), color='black', ls='--')\n",
    "    ax.set(xlabel='')\n",
    "    ax.tick_params('x', rotation=30)\n",
    "    \n",
    "fig.suptitle('Seasonal Subseries Plot') # super-title for the overall figure\n",
    "# fig.tight_layout()\n",
    "fig.subplots_adjust(wspace=0)"
   ]
  },
  {
   "cell_type": "code",
   "execution_count": null,
   "metadata": {},
   "outputs": [],
   "source": [
    "table = z.groupby([z.index.year, z.index.month]).mean().unstack()\n",
    "\n",
    "fig, axs = plt.subplots(1, 12, sharey=True, sharex=True, figsize=(16, 5))\n",
    "\n",
    "for ax, (month, subset) in zip(axs, table.iteritems()):\n",
    "    subset.plot(ax=ax, title=month)\n",
    "    ax.hlines(subset.mean(), *ax.get_xlim(), color='black', ls='--')\n",
    "    ax.set(xlabel='')\n",
    "    ax.tick_params('x', rotation=30)\n",
    "    \n",
    "fig.suptitle('Seasonal Subseries Plot') # super-title for the overall figure\n",
    "# fig.tight_layout()\n",
    "fig.subplots_adjust(wspace=0)"
   ]
  },
  {
   "cell_type": "markdown",
   "metadata": {},
   "source": [
    "Lag Plot"
   ]
  },
  {
   "cell_type": "code",
   "execution_count": null,
   "metadata": {},
   "outputs": [],
   "source": [
    "df.head()"
   ]
  },
  {
   "cell_type": "code",
   "execution_count": null,
   "metadata": {},
   "outputs": [],
   "source": [
    "train['y(t + 1)'] = train.total_fossil_fuels_production_monthly\t.shift(-1)\n",
    "train.head()"
   ]
  },
  {
   "cell_type": "code",
   "execution_count": null,
   "metadata": {},
   "outputs": [],
   "source": [
    "ax = train.plot.scatter(x='total_fossil_fuels_production_monthly', y='y(t + 1)')\n",
    "ax.set(xlabel='t', ylabel='t + 1')"
   ]
  },
  {
   "cell_type": "code",
   "execution_count": null,
   "metadata": {},
   "outputs": [],
   "source": [
    "monthly = train.resample('M').mean().drop(columns='y(t + 1)')\n",
    "monthly['the_next_month'] = monthly.total_fossil_fuels_production_monthly.shift(-1)\n",
    "monthly = monthly.rename(columns={'total_fossil_fuels_production_monthly': 'this_month'})\n",
    "monthly.plot.scatter(x='this_month', y='the_next_month')\n",
    "monthly"
   ]
  },
  {
   "cell_type": "code",
   "execution_count": null,
   "metadata": {},
   "outputs": [],
   "source": [
    "monthly = train.resample('M').mean().drop(columns='y(t + 1)')\n",
    "monthly['6_months_out'] = monthly.total_fossil_fuels_production_monthly.shift(-6)\n",
    "monthly = monthly.rename(columns={'total_fossil_fuels_production_monthly': 'this_month'})\n",
    "monthly.plot.scatter(x='this_month', y='6_months_out')"
   ]
  },
  {
   "cell_type": "code",
   "execution_count": null,
   "metadata": {},
   "outputs": [],
   "source": [
    "monthly = train.resample('M').mean().drop(columns='y(t + 1)')\n",
    "monthly['12_months_out'] = monthly.total_fossil_fuels_production_monthly.shift(-12)\n",
    "monthly = monthly.rename(columns={'total_fossil_fuels_production_monthly': 'this_month'})\n",
    "monthly.plot.scatter(x='this_month', y='12_months_out')"
   ]
  },
  {
   "cell_type": "code",
   "execution_count": null,
   "metadata": {},
   "outputs": [],
   "source": [
    "pd.plotting.lag_plot(train.total_fossil_fuels_production_monthly.resample('M').mean(), lag=60)"
   ]
  },
  {
   "cell_type": "markdown",
   "metadata": {},
   "source": [
    "Autocorrelation Plot\n",
    "\n",
    "What is pearson's r as a function of the lag time?\n",
    "\n",
    "autocorrelation: a series correlation with itself\n",
    "can help to identify seasonality"
   ]
  },
  {
   "cell_type": "code",
   "execution_count": null,
   "metadata": {},
   "outputs": [],
   "source": [
    "from scipy import stats"
   ]
  },
  {
   "cell_type": "code",
   "execution_count": null,
   "metadata": {},
   "outputs": [],
   "source": [
    "monthly"
   ]
  },
  {
   "cell_type": "code",
   "execution_count": null,
   "metadata": {},
   "outputs": [],
   "source": [
    "lag = 1\n",
    "monthly.total_fossil_fuels_consumption_monthly.iloc[:-lag].shape, monthly.total_fossil_fuels_consumption_monthly.shift(-lag).dropna().shape"
   ]
  },
  {
   "cell_type": "code",
   "execution_count": null,
   "metadata": {},
   "outputs": [],
   "source": [
    "monthly = train.resample('M').mean()\n",
    "s = pd.Series({\n",
    "    lag: stats.pearsonr(\n",
    "        monthly.total_fossil_fuels_consumption_monthly.iloc[:-lag], monthly.total_fossil_fuels_consumption_monthly.shift(-lag).dropna()\n",
    "    )[0]\n",
    "    for lag in range(1, 12*3 + 1)\n",
    "})"
   ]
  },
  {
   "cell_type": "code",
   "execution_count": null,
   "metadata": {},
   "outputs": [],
   "source": [
    "pd.plotting.autocorrelation_plot(train.total_fossil_fuels_consumption_monthly.resample('M').mean())"
   ]
  },
  {
   "cell_type": "markdown",
   "metadata": {},
   "source": [
    "Seasonal Decomposition"
   ]
  },
  {
   "cell_type": "code",
   "execution_count": null,
   "metadata": {},
   "outputs": [],
   "source": [
    "y = train.total_fossil_fuels_production_monthly.resample('M').mean()\n",
    "\n",
    "result_p = sm.tsa.seasonal_decompose(y)\n",
    "decomposition = pd.DataFrame({\n",
    "    'y': result_p.observed,\n",
    "    'trend': result_p.trend,\n",
    "    'seasonal': result_p.seasonal,\n",
    "    'resid': result_p.resid,\n",
    "})\n",
    "decomposition['trend_centered'] = decomposition.trend - decomposition.trend.mean()\n",
    "decomposition[['trend_centered', 'seasonal', 'resid']].plot()"
   ]
  },
  {
   "cell_type": "code",
   "execution_count": null,
   "metadata": {},
   "outputs": [],
   "source": [
    "decomposition.y.plot()"
   ]
  },
  {
   "cell_type": "code",
   "execution_count": null,
   "metadata": {},
   "outputs": [],
   "source": [
    "x = train.total_fossil_fuels_consumption_monthly.resample('M').mean()\n",
    "\n",
    "result_c = sm.tsa.seasonal_decompose(x)\n",
    "decomposition = pd.DataFrame({\n",
    "    'x': result_c.observed,\n",
    "    'trend': result_c.trend,\n",
    "    'seasonal': result_c.seasonal,\n",
    "    'resid': result_c.resid,\n",
    "})\n",
    "decomposition['trend_centered'] = decomposition.trend - decomposition.trend.mean()\n",
    "decomposition[['trend_centered', 'seasonal', 'resid']].plot()"
   ]
  },
  {
   "cell_type": "code",
   "execution_count": null,
   "metadata": {},
   "outputs": [],
   "source": [
    "decomposition.x.plot()"
   ]
  },
  {
   "cell_type": "code",
   "execution_count": null,
   "metadata": {},
   "outputs": [],
   "source": [
    "z = train.fossil_fuels_difference.resample('M').mean()\n",
    "\n",
    "result_d = sm.tsa.seasonal_decompose(z)\n",
    "decomposition = pd.DataFrame({\n",
    "    'z': result_d.observed,\n",
    "    'trend': result_d.trend,\n",
    "    'seasonal': result_d.seasonal,\n",
    "    'resid': result_d.resid,\n",
    "})\n",
    "decomposition['trend_centered'] = decomposition.trend - decomposition.trend.mean()\n",
    "decomposition[['trend_centered', 'seasonal', 'resid']].plot()"
   ]
  },
  {
   "cell_type": "code",
   "execution_count": null,
   "metadata": {},
   "outputs": [],
   "source": [
    "decomposition.z.plot()"
   ]
  },
  {
   "cell_type": "code",
   "execution_count": null,
   "metadata": {},
   "outputs": [],
   "source": [
    "result_p.plot()\n",
    "None\n",
    "result_c.plot()\n",
    "None\n",
    "result_d.plot()\n",
    "None"
   ]
  },
  {
   "cell_type": "code",
   "execution_count": null,
   "metadata": {},
   "outputs": [],
   "source": [
    "# Simulation Demo\n",
    "import numpy as np\n",
    "\n",
    "x = np.linspace(0, 8 * np.pi, 200)\n",
    "seasonal = np.sin(x)\n",
    "trend = np.linspace(0, 1, 200)\n",
    "resid = np.random.rand(200)\n",
    "\n",
    "y = seasonal + trend + resid\n",
    "\n",
    "plt.plot(x, y)"
   ]
  }
 ],
 "metadata": {
  "interpreter": {
   "hash": "3067ead486e059ec00ffe7555bdb889e6e264a24dc711bf108106cc7baee8d5d"
  },
  "kernelspec": {
   "display_name": "Python 3.9.7 ('base')",
   "language": "python",
   "name": "python3"
  },
  "language_info": {
   "codemirror_mode": {
    "name": "ipython",
    "version": 3
   },
   "file_extension": ".py",
   "mimetype": "text/x-python",
   "name": "python",
   "nbconvert_exporter": "python",
   "pygments_lexer": "ipython3",
   "version": "3.9.7"
  },
  "orig_nbformat": 4
 },
 "nbformat": 4,
 "nbformat_minor": 2
}
